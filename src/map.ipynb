{
 "cells": [
  {
   "cell_type": "code",
   "execution_count": 14,
   "metadata": {},
   "outputs": [],
   "source": [
    "import pandas as pd"
   ]
  },
  {
   "cell_type": "code",
   "execution_count": 47,
   "metadata": {},
   "outputs": [],
   "source": [
    "df1= pd.read_csv(r\"C:\\Users\\thinh.lv\\google-maps-scraper\\src\\csv\\thẩm mỹ.csv\")"
   ]
  },
  {
   "cell_type": "code",
   "execution_count": 48,
   "metadata": {},
   "outputs": [],
   "source": [
    "df2= pd.read_csv(r\"C:\\Users\\thinh.lv\\google-maps-scraper\\src\\csv\\làm đẹp.csv\")"
   ]
  },
  {
   "cell_type": "code",
   "execution_count": 49,
   "metadata": {},
   "outputs": [],
   "source": [
    "df3= pd.read_csv(r\"C:\\Users\\thinh.lv\\google-maps-scraper\\src\\csv\\spa.csv\")"
   ]
  },
  {
   "cell_type": "code",
   "execution_count": 52,
   "metadata": {},
   "outputs": [],
   "source": [
    "result_df = pd.concat([df1, df2, df3]).drop_duplicates()"
   ]
  },
  {
   "cell_type": "code",
   "execution_count": 53,
   "metadata": {},
   "outputs": [
    {
     "data": {
      "text/plain": [
       "(470, 12)"
      ]
     },
     "execution_count": 53,
     "metadata": {},
     "output_type": "execute_result"
    }
   ],
   "source": [
    "result_df.shape"
   ]
  },
  {
   "cell_type": "code",
   "execution_count": 54,
   "metadata": {},
   "outputs": [],
   "source": [
    "import os"
   ]
  },
  {
   "cell_type": "code",
   "execution_count": 56,
   "metadata": {},
   "outputs": [],
   "source": [
    "# Đường dẫn đến thư mục chứa các file CSV\n",
    "folder_path = 'C:/Users/thinh.lv/google-maps-scraper/src/csv'\n",
    "\n",
    "# Khởi tạo một danh sách để lưu trữ các DataFrame\n",
    "dfs = []\n",
    "\n",
    "# Lặp qua tất cả các file trong thư mục\n",
    "for filename in os.listdir(folder_path):\n",
    "    if filename.endswith('.csv'):\n",
    "        file_path = os.path.join(folder_path, filename)\n",
    "        \n",
    "        # Đọc từng file CSV và thêm vào danh sách\n",
    "        df = pd.read_csv(file_path)\n",
    "        dfs.append(df)\n",
    "\n",
    "# Thực hiện union\n",
    "result_df = pd.concat(dfs).drop_duplicates()"
   ]
  },
  {
   "cell_type": "code",
   "execution_count": 57,
   "metadata": {},
   "outputs": [],
   "source": [
    "fnb = pd.read_excel(\"C:/Users/thinh.lv/google-maps-scraper/src/df_fnb_ninh_kieu.xlsx\")"
   ]
  },
  {
   "cell_type": "code",
   "execution_count": 61,
   "metadata": {},
   "outputs": [],
   "source": [
    "fnb = fnb.drop(columns=['categories'])"
   ]
  },
  {
   "cell_type": "code",
   "execution_count": 62,
   "metadata": {},
   "outputs": [
    {
     "data": {
      "text/html": [
       "<div>\n",
       "<style scoped>\n",
       "    .dataframe tbody tr th:only-of-type {\n",
       "        vertical-align: middle;\n",
       "    }\n",
       "\n",
       "    .dataframe tbody tr th {\n",
       "        vertical-align: top;\n",
       "    }\n",
       "\n",
       "    .dataframe thead th {\n",
       "        text-align: right;\n",
       "    }\n",
       "</style>\n",
       "<table border=\"1\" class=\"dataframe\">\n",
       "  <thead>\n",
       "    <tr style=\"text-align: right;\">\n",
       "      <th></th>\n",
       "      <th>Unnamed: 0</th>\n",
       "      <th>place_id</th>\n",
       "      <th>name</th>\n",
       "      <th>main_category</th>\n",
       "      <th>phone</th>\n",
       "      <th>address</th>\n",
       "      <th>address_ward</th>\n",
       "      <th>address_street</th>\n",
       "      <th>address_city</th>\n",
       "      <th>address_postal_code</th>\n",
       "      <th>address_state</th>\n",
       "      <th>address_country_code</th>\n",
       "    </tr>\n",
       "  </thead>\n",
       "  <tbody>\n",
       "    <tr>\n",
       "      <th>0</th>\n",
       "      <td>0</td>\n",
       "      <td>ChIJ1zgaajWTpzERAwdFNM7oyxM</td>\n",
       "      <td>Sailing Club Phú Quốc</td>\n",
       "      <td>Nhà hàng</td>\n",
       "      <td>0931 031 035</td>\n",
       "      <td>Next to Intercontinental, Lô B7 Khu phức, Dươn...</td>\n",
       "      <td>Dương Tơ, Thành phố Phú Quốc</td>\n",
       "      <td>Next to Intercontinental, Lô B7 Khu phức</td>\n",
       "      <td>Kiên Giang</td>\n",
       "      <td>920000.0</td>\n",
       "      <td>Tp. Phú Quốc, Kiên Giang</td>\n",
       "      <td>VN</td>\n",
       "    </tr>\n",
       "    <tr>\n",
       "      <th>1</th>\n",
       "      <td>1</td>\n",
       "      <td>ChIJzcWlVKlioDER8x5DgJZRmzc</td>\n",
       "      <td>Karaoke Paradise 1</td>\n",
       "      <td>Karaoke</td>\n",
       "      <td>0292 3797 797</td>\n",
       "      <td>18 Lê Lợi, Cái Khế, Ninh Kiều, Cần Thơ</td>\n",
       "      <td>Cái Khế, Ninh Kiều</td>\n",
       "      <td>18 Lê Lợi</td>\n",
       "      <td>Cần Thơ</td>\n",
       "      <td>NaN</td>\n",
       "      <td>Ninh Kiều, Cần Thơ</td>\n",
       "      <td>VN</td>\n",
       "    </tr>\n",
       "    <tr>\n",
       "      <th>2</th>\n",
       "      <td>2</td>\n",
       "      <td>ChIJd3KrYa0odTER_3IUi3FL3s8</td>\n",
       "      <td>Birdy</td>\n",
       "      <td>Quán bar</td>\n",
       "      <td>0938 818 156</td>\n",
       "      <td>80 Phạm Viết Chánh, Phường 19, Bình Thạnh, Thà...</td>\n",
       "      <td>Phường 19, Bình Thạnh</td>\n",
       "      <td>80 Phạm Viết Chánh</td>\n",
       "      <td>Thành phố Hồ Chí Minh</td>\n",
       "      <td>NaN</td>\n",
       "      <td>Bình Thạnh, Thành phố Hồ Chí Minh</td>\n",
       "      <td>VN</td>\n",
       "    </tr>\n",
       "    <tr>\n",
       "      <th>3</th>\n",
       "      <td>3</td>\n",
       "      <td>ChIJcx38zHmJoDERHUu5SybjbXk</td>\n",
       "      <td>QUÁN NGON CẦN THƠ HÒA TUỘC</td>\n",
       "      <td>Nhà hàng</td>\n",
       "      <td>1900 866808</td>\n",
       "      <td>333 Đ. Nguyễn Văn Linh, Phường An Khánh, Ninh ...</td>\n",
       "      <td>Phường An Khánh, Ninh Kiều</td>\n",
       "      <td>333 Đ. Nguyễn Văn Linh</td>\n",
       "      <td>Cần Thơ</td>\n",
       "      <td>94000.0</td>\n",
       "      <td>Ninh Kiều, Cần Thơ</td>\n",
       "      <td>VN</td>\n",
       "    </tr>\n",
       "    <tr>\n",
       "      <th>4</th>\n",
       "      <td>4</td>\n",
       "      <td>ChIJ4-uslaNioDERJcQkA493bD4</td>\n",
       "      <td>Ninh Kieu Sky Bar</td>\n",
       "      <td>Quán bar</td>\n",
       "      <td>0939 786 123</td>\n",
       "      <td>02 Hai Ba Trung Stress District City, Tân An, ...</td>\n",
       "      <td>Tân An, Ninh Kiều</td>\n",
       "      <td>02 Hai Ba Trung Stress District City</td>\n",
       "      <td>Cần Thơ</td>\n",
       "      <td>NaN</td>\n",
       "      <td>Ninh Kiều, Cần Thơ</td>\n",
       "      <td>VN</td>\n",
       "    </tr>\n",
       "  </tbody>\n",
       "</table>\n",
       "</div>"
      ],
      "text/plain": [
       "   Unnamed: 0                     place_id                        name  \\\n",
       "0           0  ChIJ1zgaajWTpzERAwdFNM7oyxM       Sailing Club Phú Quốc   \n",
       "1           1  ChIJzcWlVKlioDER8x5DgJZRmzc          Karaoke Paradise 1   \n",
       "2           2  ChIJd3KrYa0odTER_3IUi3FL3s8                       Birdy   \n",
       "3           3  ChIJcx38zHmJoDERHUu5SybjbXk  QUÁN NGON CẦN THƠ HÒA TUỘC   \n",
       "4           4  ChIJ4-uslaNioDERJcQkA493bD4           Ninh Kieu Sky Bar   \n",
       "\n",
       "  main_category          phone  \\\n",
       "0      Nhà hàng   0931 031 035   \n",
       "1       Karaoke  0292 3797 797   \n",
       "2      Quán bar   0938 818 156   \n",
       "3      Nhà hàng    1900 866808   \n",
       "4      Quán bar   0939 786 123   \n",
       "\n",
       "                                             address  \\\n",
       "0  Next to Intercontinental, Lô B7 Khu phức, Dươn...   \n",
       "1             18 Lê Lợi, Cái Khế, Ninh Kiều, Cần Thơ   \n",
       "2  80 Phạm Viết Chánh, Phường 19, Bình Thạnh, Thà...   \n",
       "3  333 Đ. Nguyễn Văn Linh, Phường An Khánh, Ninh ...   \n",
       "4  02 Hai Ba Trung Stress District City, Tân An, ...   \n",
       "\n",
       "                   address_ward                            address_street  \\\n",
       "0  Dương Tơ, Thành phố Phú Quốc  Next to Intercontinental, Lô B7 Khu phức   \n",
       "1            Cái Khế, Ninh Kiều                                 18 Lê Lợi   \n",
       "2         Phường 19, Bình Thạnh                        80 Phạm Viết Chánh   \n",
       "3    Phường An Khánh, Ninh Kiều                    333 Đ. Nguyễn Văn Linh   \n",
       "4             Tân An, Ninh Kiều      02 Hai Ba Trung Stress District City   \n",
       "\n",
       "            address_city  address_postal_code  \\\n",
       "0             Kiên Giang             920000.0   \n",
       "1                Cần Thơ                  NaN   \n",
       "2  Thành phố Hồ Chí Minh                  NaN   \n",
       "3                Cần Thơ              94000.0   \n",
       "4                Cần Thơ                  NaN   \n",
       "\n",
       "                       address_state address_country_code  \n",
       "0           Tp. Phú Quốc, Kiên Giang                   VN  \n",
       "1                 Ninh Kiều, Cần Thơ                   VN  \n",
       "2  Bình Thạnh, Thành phố Hồ Chí Minh                   VN  \n",
       "3                 Ninh Kiều, Cần Thơ                   VN  \n",
       "4                 Ninh Kiều, Cần Thơ                   VN  "
      ]
     },
     "execution_count": 62,
     "metadata": {},
     "output_type": "execute_result"
    }
   ],
   "source": [
    "fnb.head(5)"
   ]
  },
  {
   "cell_type": "code",
   "execution_count": 60,
   "metadata": {},
   "outputs": [
    {
     "data": {
      "text/html": [
       "<div>\n",
       "<style scoped>\n",
       "    .dataframe tbody tr th:only-of-type {\n",
       "        vertical-align: middle;\n",
       "    }\n",
       "\n",
       "    .dataframe tbody tr th {\n",
       "        vertical-align: top;\n",
       "    }\n",
       "\n",
       "    .dataframe thead th {\n",
       "        text-align: right;\n",
       "    }\n",
       "</style>\n",
       "<table border=\"1\" class=\"dataframe\">\n",
       "  <thead>\n",
       "    <tr style=\"text-align: right;\">\n",
       "      <th></th>\n",
       "      <th>Unnamed: 0</th>\n",
       "      <th>place_id</th>\n",
       "      <th>name</th>\n",
       "      <th>main_category</th>\n",
       "      <th>phone</th>\n",
       "      <th>address</th>\n",
       "      <th>address_ward</th>\n",
       "      <th>address_street</th>\n",
       "      <th>address_city</th>\n",
       "      <th>address_postal_code</th>\n",
       "      <th>address_state</th>\n",
       "      <th>address_country_code</th>\n",
       "    </tr>\n",
       "  </thead>\n",
       "  <tbody>\n",
       "    <tr>\n",
       "      <th>0</th>\n",
       "      <td>0</td>\n",
       "      <td>ChIJhw8kJOurNTER6PEWU5OmVqM</td>\n",
       "      <td>Shop Bé Na</td>\n",
       "      <td>Cửa hàng quần áo trẻ em</td>\n",
       "      <td>0888 480 896</td>\n",
       "      <td>Shop Bé Na, 91B P. Thợ Nhuộm, Trần Hưng Đạo, H...</td>\n",
       "      <td>Trần Hưng Đạo, Hoàn Kiếm</td>\n",
       "      <td>91B P. Thợ Nhuộm</td>\n",
       "      <td>Hà Nội</td>\n",
       "      <td>100000.0</td>\n",
       "      <td>Hoàn Kiếm, Hà Nội</td>\n",
       "      <td>VN</td>\n",
       "    </tr>\n",
       "    <tr>\n",
       "      <th>1</th>\n",
       "      <td>15</td>\n",
       "      <td>ChIJk6LQQpyrNTERPJXcubeuOBw</td>\n",
       "      <td>Mẹo Nuôi Bé</td>\n",
       "      <td>Siêu thị</td>\n",
       "      <td>0943 235 558</td>\n",
       "      <td>Mẹo Nuôi Bé, Ngõ 105 P. Tôn Đức Thắng, Hàng Bộ...</td>\n",
       "      <td>Hàng Bột, Đống Đa</td>\n",
       "      <td>Ngõ 105 P. Tôn Đức Thắng</td>\n",
       "      <td>Hà Nội</td>\n",
       "      <td>100000.0</td>\n",
       "      <td>Đống Đa, Hà Nội</td>\n",
       "      <td>VN</td>\n",
       "    </tr>\n",
       "    <tr>\n",
       "      <th>2</th>\n",
       "      <td>30</td>\n",
       "      <td>ChIJdytDmXSsNTERYvRCAVxsLzY</td>\n",
       "      <td>Siêu thị mẹ bầu và em bé KidsPlaza Xã Đàn</td>\n",
       "      <td>Cửa hàng đồ trẻ em</td>\n",
       "      <td>0796 297 588</td>\n",
       "      <td>Siêu thị mẹ bầu và em bé KidsPlaza Xã Đàn, 374...</td>\n",
       "      <td>Nam Đồng, Đống Đa</td>\n",
       "      <td>374 P. Xã Đàn</td>\n",
       "      <td>Hà Nội</td>\n",
       "      <td>100000.0</td>\n",
       "      <td>Đống Đa, Hà Nội</td>\n",
       "      <td>VN</td>\n",
       "    </tr>\n",
       "    <tr>\n",
       "      <th>3</th>\n",
       "      <td>45</td>\n",
       "      <td>ChIJTZIb_XutNTERtvT08MlkgUk</td>\n",
       "      <td>Shop Mẹ Và Bé Love Baby</td>\n",
       "      <td>Cửa hàng đồ trẻ em</td>\n",
       "      <td>0975 275 820</td>\n",
       "      <td>Shop Mẹ Và Bé Love Baby, 189 P. Quan Nhân, Nhâ...</td>\n",
       "      <td>Nhân Chính, Thanh Xuân</td>\n",
       "      <td>189 P. Quan Nhân</td>\n",
       "      <td>Hà Nội</td>\n",
       "      <td>NaN</td>\n",
       "      <td>Thanh Xuân, Hà Nội</td>\n",
       "      <td>VN</td>\n",
       "    </tr>\n",
       "    <tr>\n",
       "      <th>4</th>\n",
       "      <td>60</td>\n",
       "      <td>ChIJt1_l6JirNTERCBvtxyCkNLg</td>\n",
       "      <td>Hệ Thống Cửa Hàng Mẹ và Bé Bibo Mart - Thế Giớ...</td>\n",
       "      <td>Cửa hàng đồ trẻ em</td>\n",
       "      <td>NaN</td>\n",
       "      <td>Hệ Thống Cửa Hàng Mẹ và Bé Bibo Mart - Thế Giớ...</td>\n",
       "      <td>Làng Quốc tế Thăng Long, Cầu Giấy</td>\n",
       "      <td>Tòa B3, P. Vĩnh Hồ</td>\n",
       "      <td>Hà Nội</td>\n",
       "      <td>100000.0</td>\n",
       "      <td>Cầu Giấy, Hà Nội</td>\n",
       "      <td>VN</td>\n",
       "    </tr>\n",
       "  </tbody>\n",
       "</table>\n",
       "</div>"
      ],
      "text/plain": [
       "   Unnamed: 0                     place_id  \\\n",
       "0           0  ChIJhw8kJOurNTER6PEWU5OmVqM   \n",
       "1          15  ChIJk6LQQpyrNTERPJXcubeuOBw   \n",
       "2          30  ChIJdytDmXSsNTERYvRCAVxsLzY   \n",
       "3          45  ChIJTZIb_XutNTERtvT08MlkgUk   \n",
       "4          60  ChIJt1_l6JirNTERCBvtxyCkNLg   \n",
       "\n",
       "                                                name            main_category  \\\n",
       "0                                         Shop Bé Na  Cửa hàng quần áo trẻ em   \n",
       "1                                        Mẹo Nuôi Bé                 Siêu thị   \n",
       "2          Siêu thị mẹ bầu và em bé KidsPlaza Xã Đàn       Cửa hàng đồ trẻ em   \n",
       "3                            Shop Mẹ Và Bé Love Baby       Cửa hàng đồ trẻ em   \n",
       "4  Hệ Thống Cửa Hàng Mẹ và Bé Bibo Mart - Thế Giớ...       Cửa hàng đồ trẻ em   \n",
       "\n",
       "          phone                                            address  \\\n",
       "0  0888 480 896  Shop Bé Na, 91B P. Thợ Nhuộm, Trần Hưng Đạo, H...   \n",
       "1  0943 235 558  Mẹo Nuôi Bé, Ngõ 105 P. Tôn Đức Thắng, Hàng Bộ...   \n",
       "2  0796 297 588  Siêu thị mẹ bầu và em bé KidsPlaza Xã Đàn, 374...   \n",
       "3  0975 275 820  Shop Mẹ Và Bé Love Baby, 189 P. Quan Nhân, Nhâ...   \n",
       "4           NaN  Hệ Thống Cửa Hàng Mẹ và Bé Bibo Mart - Thế Giớ...   \n",
       "\n",
       "                        address_ward            address_street address_city  \\\n",
       "0           Trần Hưng Đạo, Hoàn Kiếm          91B P. Thợ Nhuộm       Hà Nội   \n",
       "1                  Hàng Bột, Đống Đa  Ngõ 105 P. Tôn Đức Thắng       Hà Nội   \n",
       "2                  Nam Đồng, Đống Đa             374 P. Xã Đàn       Hà Nội   \n",
       "3             Nhân Chính, Thanh Xuân          189 P. Quan Nhân       Hà Nội   \n",
       "4  Làng Quốc tế Thăng Long, Cầu Giấy        Tòa B3, P. Vĩnh Hồ       Hà Nội   \n",
       "\n",
       "   address_postal_code       address_state address_country_code  \n",
       "0             100000.0   Hoàn Kiếm, Hà Nội                   VN  \n",
       "1             100000.0     Đống Đa, Hà Nội                   VN  \n",
       "2             100000.0     Đống Đa, Hà Nội                   VN  \n",
       "3                  NaN  Thanh Xuân, Hà Nội                   VN  \n",
       "4             100000.0    Cầu Giấy, Hà Nội                   VN  "
      ]
     },
     "execution_count": 60,
     "metadata": {},
     "output_type": "execute_result"
    }
   ],
   "source": [
    "result_df.head(5)"
   ]
  },
  {
   "cell_type": "code",
   "execution_count": 63,
   "metadata": {},
   "outputs": [],
   "source": [
    "result_df_1 = pd.concat([fnb, result_df]).drop_duplicates()"
   ]
  },
  {
   "cell_type": "code",
   "execution_count": 74,
   "metadata": {},
   "outputs": [],
   "source": [
    "result_df_1.to_excel(\"C:/Users/thinh.lv/google-maps-scraper/src/df_fnb_ninh_kieu.xlsx\")"
   ]
  },
  {
   "cell_type": "code",
   "execution_count": 66,
   "metadata": {},
   "outputs": [],
   "source": [
    "# Tách cột 'address_ward' thành hai cột mới 'city' và 'ward'\n",
    "result_df_1[['ward', 'state']] = result_df_1['address_ward'].str.rsplit(', ', n=1, expand=True)\n"
   ]
  },
  {
   "cell_type": "code",
   "execution_count": 71,
   "metadata": {},
   "outputs": [],
   "source": [
    "import re"
   ]
  },
  {
   "cell_type": "code",
   "execution_count": 72,
   "metadata": {},
   "outputs": [],
   "source": [
    "def cleaning_street(street):\n",
    "    if isinstance(street, str):\n",
    "        st = re.sub(\"(Hẻm|Ngõ|Ngách) \\d+\\/*\\d*\\/*\\d* \", \"\", street)\n",
    "        st = re.sub(\"(Hẻm T\\d+)|Hẻm \\d+[A-Za-z] \", \"\", st)\n",
    "        st = re.sub(r\"(30\\/4|30\\s(th[aá]ng\\s)?4|30\\s(th[aá]ng\\s)?tư)\", \"Đường 30 Tháng 4\", st, flags=re.IGNORECASE)\n",
    "        st = re.sub(r\"(3\\/2|3\\s(th[aá]ng\\s)?2|3\\s(th[aá]ng\\s)?hai)\", \"Đường 3 Tháng 2\", st, flags=re.IGNORECASE)\n",
    "        st = re.sub(r\"\\bQL\\.\", \"Quốc Lộ \", st)\n",
    "        st = re.sub(\"-\", \"/\", st)\n",
    "        st = st.strip()  # Loại bỏ khoảng trắng ở hai đầu của đường dẫn\n",
    "        lower_text = st.lower()\n",
    "        if not re.search(r'^chung cư|^hẻm|^ấp|^khu phố|^phố|^quốc lộ|^tổ', lower_text) and not re.search(r'^đường', lower_text):\n",
    "            st = \"Đường \" + st\n",
    "        return st\n",
    "    return street"
   ]
  },
  {
   "cell_type": "code",
   "execution_count": 73,
   "metadata": {},
   "outputs": [],
   "source": [
    "result_df_1[\"cleaned_street\"] = result_df_1.apply(lambda x: cleaning_street(x.address_street), axis=1)"
   ]
  }
 ],
 "metadata": {
  "kernelspec": {
   "display_name": "Python 3",
   "language": "python",
   "name": "python3"
  },
  "language_info": {
   "codemirror_mode": {
    "name": "ipython",
    "version": 3
   },
   "file_extension": ".py",
   "mimetype": "text/x-python",
   "name": "python",
   "nbconvert_exporter": "python",
   "pygments_lexer": "ipython3",
   "version": "3.10.11"
  }
 },
 "nbformat": 4,
 "nbformat_minor": 2
}
